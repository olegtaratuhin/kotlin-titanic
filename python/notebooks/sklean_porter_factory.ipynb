{
 "cells": [
  {
   "cell_type": "code",
   "execution_count": 1,
   "metadata": {},
   "outputs": [],
   "source": [
    "import pandas as pd\n",
    "import numpy as np\n",
    "from pathlib import Path"
   ]
  },
  {
   "cell_type": "code",
   "execution_count": 49,
   "metadata": {},
   "outputs": [],
   "source": [
    "path_to_data = Path(\"../data\")\n",
    "path_to_models = Path(\"../models\")\n",
    "path_to_codegen = path_to_models / \"codegen\"\n",
    "df_train = pd.read_csv(path_to_data / \"train.csv\")\n",
    "df_test = pd.read_csv(path_to_data / \"test.csv\")"
   ]
  },
  {
   "cell_type": "code",
   "execution_count": 3,
   "metadata": {
    "scrolled": true
   },
   "outputs": [
    {
     "data": {
      "text/html": [
       "<div>\n",
       "<style scoped>\n",
       "    .dataframe tbody tr th:only-of-type {\n",
       "        vertical-align: middle;\n",
       "    }\n",
       "\n",
       "    .dataframe tbody tr th {\n",
       "        vertical-align: top;\n",
       "    }\n",
       "\n",
       "    .dataframe thead th {\n",
       "        text-align: right;\n",
       "    }\n",
       "</style>\n",
       "<table border=\"1\" class=\"dataframe\">\n",
       "  <thead>\n",
       "    <tr style=\"text-align: right;\">\n",
       "      <th></th>\n",
       "      <th>PassengerId</th>\n",
       "      <th>Survived</th>\n",
       "      <th>Pclass</th>\n",
       "      <th>Name</th>\n",
       "      <th>Sex</th>\n",
       "      <th>Age</th>\n",
       "      <th>SibSp</th>\n",
       "      <th>Parch</th>\n",
       "      <th>Ticket</th>\n",
       "      <th>Fare</th>\n",
       "      <th>Cabin</th>\n",
       "      <th>Embarked</th>\n",
       "    </tr>\n",
       "  </thead>\n",
       "  <tbody>\n",
       "    <tr>\n",
       "      <th>0</th>\n",
       "      <td>1</td>\n",
       "      <td>0</td>\n",
       "      <td>3</td>\n",
       "      <td>Braund, Mr. Owen Harris</td>\n",
       "      <td>male</td>\n",
       "      <td>22.0</td>\n",
       "      <td>1</td>\n",
       "      <td>0</td>\n",
       "      <td>A/5 21171</td>\n",
       "      <td>7.2500</td>\n",
       "      <td>NaN</td>\n",
       "      <td>S</td>\n",
       "    </tr>\n",
       "    <tr>\n",
       "      <th>1</th>\n",
       "      <td>2</td>\n",
       "      <td>1</td>\n",
       "      <td>1</td>\n",
       "      <td>Cumings, Mrs. John Bradley (Florence Briggs Th...</td>\n",
       "      <td>female</td>\n",
       "      <td>38.0</td>\n",
       "      <td>1</td>\n",
       "      <td>0</td>\n",
       "      <td>PC 17599</td>\n",
       "      <td>71.2833</td>\n",
       "      <td>C85</td>\n",
       "      <td>C</td>\n",
       "    </tr>\n",
       "    <tr>\n",
       "      <th>2</th>\n",
       "      <td>3</td>\n",
       "      <td>1</td>\n",
       "      <td>3</td>\n",
       "      <td>Heikkinen, Miss. Laina</td>\n",
       "      <td>female</td>\n",
       "      <td>26.0</td>\n",
       "      <td>0</td>\n",
       "      <td>0</td>\n",
       "      <td>STON/O2. 3101282</td>\n",
       "      <td>7.9250</td>\n",
       "      <td>NaN</td>\n",
       "      <td>S</td>\n",
       "    </tr>\n",
       "    <tr>\n",
       "      <th>3</th>\n",
       "      <td>4</td>\n",
       "      <td>1</td>\n",
       "      <td>1</td>\n",
       "      <td>Futrelle, Mrs. Jacques Heath (Lily May Peel)</td>\n",
       "      <td>female</td>\n",
       "      <td>35.0</td>\n",
       "      <td>1</td>\n",
       "      <td>0</td>\n",
       "      <td>113803</td>\n",
       "      <td>53.1000</td>\n",
       "      <td>C123</td>\n",
       "      <td>S</td>\n",
       "    </tr>\n",
       "    <tr>\n",
       "      <th>4</th>\n",
       "      <td>5</td>\n",
       "      <td>0</td>\n",
       "      <td>3</td>\n",
       "      <td>Allen, Mr. William Henry</td>\n",
       "      <td>male</td>\n",
       "      <td>35.0</td>\n",
       "      <td>0</td>\n",
       "      <td>0</td>\n",
       "      <td>373450</td>\n",
       "      <td>8.0500</td>\n",
       "      <td>NaN</td>\n",
       "      <td>S</td>\n",
       "    </tr>\n",
       "  </tbody>\n",
       "</table>\n",
       "</div>"
      ],
      "text/plain": [
       "   PassengerId  Survived  Pclass  \\\n",
       "0            1         0       3   \n",
       "1            2         1       1   \n",
       "2            3         1       3   \n",
       "3            4         1       1   \n",
       "4            5         0       3   \n",
       "\n",
       "                                                Name     Sex   Age  SibSp  \\\n",
       "0                            Braund, Mr. Owen Harris    male  22.0      1   \n",
       "1  Cumings, Mrs. John Bradley (Florence Briggs Th...  female  38.0      1   \n",
       "2                             Heikkinen, Miss. Laina  female  26.0      0   \n",
       "3       Futrelle, Mrs. Jacques Heath (Lily May Peel)  female  35.0      1   \n",
       "4                           Allen, Mr. William Henry    male  35.0      0   \n",
       "\n",
       "   Parch            Ticket     Fare Cabin Embarked  \n",
       "0      0         A/5 21171   7.2500   NaN        S  \n",
       "1      0          PC 17599  71.2833   C85        C  \n",
       "2      0  STON/O2. 3101282   7.9250   NaN        S  \n",
       "3      0            113803  53.1000  C123        S  \n",
       "4      0            373450   8.0500   NaN        S  "
      ]
     },
     "execution_count": 3,
     "metadata": {},
     "output_type": "execute_result"
    }
   ],
   "source": [
    "df_train.head()"
   ]
  },
  {
   "cell_type": "code",
   "execution_count": 4,
   "metadata": {},
   "outputs": [
    {
     "data": {
      "text/html": [
       "<div>\n",
       "<style scoped>\n",
       "    .dataframe tbody tr th:only-of-type {\n",
       "        vertical-align: middle;\n",
       "    }\n",
       "\n",
       "    .dataframe tbody tr th {\n",
       "        vertical-align: top;\n",
       "    }\n",
       "\n",
       "    .dataframe thead th {\n",
       "        text-align: right;\n",
       "    }\n",
       "</style>\n",
       "<table border=\"1\" class=\"dataframe\">\n",
       "  <thead>\n",
       "    <tr style=\"text-align: right;\">\n",
       "      <th></th>\n",
       "      <th>PassengerId</th>\n",
       "      <th>Pclass</th>\n",
       "      <th>Name</th>\n",
       "      <th>Sex</th>\n",
       "      <th>Age</th>\n",
       "      <th>SibSp</th>\n",
       "      <th>Parch</th>\n",
       "      <th>Ticket</th>\n",
       "      <th>Fare</th>\n",
       "      <th>Cabin</th>\n",
       "      <th>Embarked</th>\n",
       "    </tr>\n",
       "  </thead>\n",
       "  <tbody>\n",
       "    <tr>\n",
       "      <th>0</th>\n",
       "      <td>892</td>\n",
       "      <td>3</td>\n",
       "      <td>Kelly, Mr. James</td>\n",
       "      <td>male</td>\n",
       "      <td>34.5</td>\n",
       "      <td>0</td>\n",
       "      <td>0</td>\n",
       "      <td>330911</td>\n",
       "      <td>7.8292</td>\n",
       "      <td>NaN</td>\n",
       "      <td>Q</td>\n",
       "    </tr>\n",
       "    <tr>\n",
       "      <th>1</th>\n",
       "      <td>893</td>\n",
       "      <td>3</td>\n",
       "      <td>Wilkes, Mrs. James (Ellen Needs)</td>\n",
       "      <td>female</td>\n",
       "      <td>47.0</td>\n",
       "      <td>1</td>\n",
       "      <td>0</td>\n",
       "      <td>363272</td>\n",
       "      <td>7.0000</td>\n",
       "      <td>NaN</td>\n",
       "      <td>S</td>\n",
       "    </tr>\n",
       "    <tr>\n",
       "      <th>2</th>\n",
       "      <td>894</td>\n",
       "      <td>2</td>\n",
       "      <td>Myles, Mr. Thomas Francis</td>\n",
       "      <td>male</td>\n",
       "      <td>62.0</td>\n",
       "      <td>0</td>\n",
       "      <td>0</td>\n",
       "      <td>240276</td>\n",
       "      <td>9.6875</td>\n",
       "      <td>NaN</td>\n",
       "      <td>Q</td>\n",
       "    </tr>\n",
       "    <tr>\n",
       "      <th>3</th>\n",
       "      <td>895</td>\n",
       "      <td>3</td>\n",
       "      <td>Wirz, Mr. Albert</td>\n",
       "      <td>male</td>\n",
       "      <td>27.0</td>\n",
       "      <td>0</td>\n",
       "      <td>0</td>\n",
       "      <td>315154</td>\n",
       "      <td>8.6625</td>\n",
       "      <td>NaN</td>\n",
       "      <td>S</td>\n",
       "    </tr>\n",
       "    <tr>\n",
       "      <th>4</th>\n",
       "      <td>896</td>\n",
       "      <td>3</td>\n",
       "      <td>Hirvonen, Mrs. Alexander (Helga E Lindqvist)</td>\n",
       "      <td>female</td>\n",
       "      <td>22.0</td>\n",
       "      <td>1</td>\n",
       "      <td>1</td>\n",
       "      <td>3101298</td>\n",
       "      <td>12.2875</td>\n",
       "      <td>NaN</td>\n",
       "      <td>S</td>\n",
       "    </tr>\n",
       "  </tbody>\n",
       "</table>\n",
       "</div>"
      ],
      "text/plain": [
       "   PassengerId  Pclass                                          Name     Sex  \\\n",
       "0          892       3                              Kelly, Mr. James    male   \n",
       "1          893       3              Wilkes, Mrs. James (Ellen Needs)  female   \n",
       "2          894       2                     Myles, Mr. Thomas Francis    male   \n",
       "3          895       3                              Wirz, Mr. Albert    male   \n",
       "4          896       3  Hirvonen, Mrs. Alexander (Helga E Lindqvist)  female   \n",
       "\n",
       "    Age  SibSp  Parch   Ticket     Fare Cabin Embarked  \n",
       "0  34.5      0      0   330911   7.8292   NaN        Q  \n",
       "1  47.0      1      0   363272   7.0000   NaN        S  \n",
       "2  62.0      0      0   240276   9.6875   NaN        Q  \n",
       "3  27.0      0      0   315154   8.6625   NaN        S  \n",
       "4  22.0      1      1  3101298  12.2875   NaN        S  "
      ]
     },
     "execution_count": 4,
     "metadata": {},
     "output_type": "execute_result"
    }
   ],
   "source": [
    "df_test.head()"
   ]
  },
  {
   "cell_type": "code",
   "execution_count": 58,
   "metadata": {},
   "outputs": [],
   "source": [
    "from sklearn.linear_model import LogisticRegression\n",
    "from sklearn.pipeline import Pipeline\n",
    "from sklearn.base import BaseEstimator, TransformerMixin\n",
    "from sklearn.preprocessing import MinMaxScaler\n",
    "from sklearn.preprocessing import KBinsDiscretizer\n",
    "from sklearn.model_selection import cross_val_score\n",
    "from sklearn.model_selection import RandomizedSearchCV\n",
    "from sklearn.ensemble import RandomForestClassifier\n",
    "from sklearn.svm import SVC\n",
    "from sklearn import metrics\n",
    "from scipy.stats import uniform, randint\n",
    "import warnings\n",
    "warnings.filterwarnings('ignore')"
   ]
  },
  {
   "cell_type": "code",
   "execution_count": 6,
   "metadata": {},
   "outputs": [],
   "source": [
    "dropped_row_subset = [\"Embarked\"]\n",
    "train = df_train.dropna(subset=dropped_row_subset)\n",
    "x_train = train.drop(columns=[\"Survived\"])\n",
    "y_train = train[\"Survived\"]\n",
    "\n",
    "x_test = df_test"
   ]
  },
  {
   "cell_type": "code",
   "execution_count": 7,
   "metadata": {},
   "outputs": [],
   "source": [
    "class OneHotEncoding(BaseEstimator, TransformerMixin):\n",
    "    \n",
    "    def __init__(self, column_names=[]):\n",
    "        self.column_names = column_names\n",
    "\n",
    "    def transform(self, df, y=None):\n",
    "        return pd.get_dummies(df, columns=self.column_names)\n",
    "\n",
    "    def fit(self, df, y=None):\n",
    "        return self\n",
    "    \n",
    "class DropColumns(BaseEstimator, TransformerMixin):\n",
    "    \n",
    "    def __init__(self, column_names=[]):\n",
    "        self.column_names = column_names\n",
    "\n",
    "    def transform(self, df, y=None):\n",
    "        return df.drop(self.column_names, axis=1)\n",
    "\n",
    "    def fit(self, df, y=None):\n",
    "        return self\n",
    "    \n",
    "class ColumnExtractor(BaseEstimator, TransformerMixin):\n",
    "    \n",
    "    def __init__(self, column_names=[]):\n",
    "        self.column_names = column_names\n",
    "\n",
    "    def transform(self, df, y=None):\n",
    "        return df.loc[:, self.column_names]\n",
    "\n",
    "    def fit(self, df, y=None):\n",
    "        return self\n",
    "    \n",
    "class SexBinarizer(BaseEstimator, TransformerMixin):\n",
    "    \n",
    "    def __init__(self, column_names=[]):\n",
    "        pass\n",
    "\n",
    "    def transform(self, df, y=None):\n",
    "        df.loc[:, \"Sex\"] = df.loc[:, \"Sex\"].map({\"male\": 0, \"female\": 1})\n",
    "        return df\n",
    "\n",
    "    def fit(self, df, y=None):\n",
    "        return self\n",
    "    \n",
    "class FeatureNormalizer(BaseEstimator, TransformerMixin):\n",
    "    \n",
    "    def __init__(self, column_names=[]):\n",
    "        self.column_names = column_names\n",
    "        self.min_max_scalar = MinMaxScaler()\n",
    "\n",
    "    def transform(self, df, y=None):\n",
    "        df.loc[:, self.column_names] = self.min_max_scalar.transform(df[self.column_names].as_matrix())\n",
    "        return df\n",
    "\n",
    "    def fit(self, df, y=None):\n",
    "        self.min_max_scalar.fit(df[self.column_names].as_matrix())\n",
    "        return self\n",
    "    \n",
    "class FillNa(BaseEstimator, TransformerMixin):\n",
    "    \n",
    "    def __init__(self, method=\"mean\", d=None):\n",
    "        if d is not None:\n",
    "            method = \"dict\"\n",
    "        self.d = None\n",
    "        self.method = method\n",
    "\n",
    "    def transform(self, df, y=None):\n",
    "        if self.method == \"zeros\":\n",
    "            df.fillna(0)\n",
    "        elif self.method == \"mean\":\n",
    "            df.fillna(df.mean(), inplace=True)\n",
    "        elif self.method == \"dict\":\n",
    "            df.fillna(df.map(self.d))\n",
    "        else:\n",
    "            raise ValueError(\"Method should be 'mean' or 'zeros'\")\n",
    "        return df\n",
    "\n",
    "    def fit(self, df, y=None):\n",
    "        return self\n",
    "    \n",
    "class AddTwoCategoricalVariables(BaseEstimator, TransformerMixin):\n",
    "    def __init__(self, column_1, column_2):\n",
    "        self.column_1 = column_1\n",
    "        self.column_2 = column_2\n",
    "    \n",
    "    def transform(self, df):\n",
    "        df[self.column_1 + \"_\" + self.column_2] = (df[self.column_1].astype(float) +\n",
    "                    (len(df[self.column_1].unique()) * (df[self.column_2].astype(float)))).astype(\"category\")\n",
    "        return df\n",
    "    \n",
    "    def fit(self, df, y=None):\n",
    "        return self\n",
    "    \n",
    "class Numerical2Categorical(BaseEstimator, TransformerMixin):\n",
    "    def __init__(self, column, ranges, labels):\n",
    "        self.column = column\n",
    "        self.ranges = ranges\n",
    "        self.labels = labels\n",
    "        \n",
    "    def transform(self, df):\n",
    "        df.loc[:, self.column + \"_\" + \"cat\"] = (pd.cut(df.loc[:, self.column], self.ranges, labels=self.labels))\n",
    "        return df\n",
    "    \n",
    "    def fit(self, df, y=None):\n",
    "        return self"
   ]
  },
  {
   "cell_type": "code",
   "execution_count": 45,
   "metadata": {},
   "outputs": [],
   "source": [
    "from sklearn_porter import Porter"
   ]
  },
  {
   "cell_type": "markdown",
   "metadata": {},
   "source": [
    "## Try different classifiers after the same pipeline"
   ]
  },
  {
   "cell_type": "code",
   "execution_count": 62,
   "metadata": {},
   "outputs": [],
   "source": [
    "features = [\"Fare\", \"Pclass\", \"Sex\", \"Age\", \"SibSp\", \"Parch\"]\n",
    "normalize_features = [\"Fare\", \"SibSp\", \"Parch\", \"Age\"]\n",
    "age_range = [0, 15, 35, 50, 80]\n",
    "age_label = [0, 1, 2, 3]\n",
    "\n",
    "def pipeline_factory(estimator):\n",
    "    return Pipeline([\n",
    "        (\"column_extractor\", ColumnExtractor(features)),\n",
    "        (\"fill_na\", FillNa(\"mean\")),\n",
    "        (\"sex_binarizer\", SexBinarizer()),\n",
    "        (\"feature_normalizer\", FeatureNormalizer(normalize_features)),\n",
    "        (\"clf\", estimator)\n",
    "    ])\n",
    "\n",
    "def get_clf(pipeline):\n",
    "    return pipeline.best_estimator_.named_steps[\"clf\"]"
   ]
  },
  {
   "cell_type": "code",
   "execution_count": 74,
   "metadata": {},
   "outputs": [
    {
     "data": {
      "text/html": [
       "<div>\n",
       "<style scoped>\n",
       "    .dataframe tbody tr th:only-of-type {\n",
       "        vertical-align: middle;\n",
       "    }\n",
       "\n",
       "    .dataframe tbody tr th {\n",
       "        vertical-align: top;\n",
       "    }\n",
       "\n",
       "    .dataframe thead th {\n",
       "        text-align: right;\n",
       "    }\n",
       "</style>\n",
       "<table border=\"1\" class=\"dataframe\">\n",
       "  <thead>\n",
       "    <tr style=\"text-align: right;\">\n",
       "      <th></th>\n",
       "      <th>Fare</th>\n",
       "      <th>Pclass</th>\n",
       "      <th>Sex</th>\n",
       "      <th>Age</th>\n",
       "      <th>SibSp</th>\n",
       "      <th>Parch</th>\n",
       "    </tr>\n",
       "  </thead>\n",
       "  <tbody>\n",
       "    <tr>\n",
       "      <th>0</th>\n",
       "      <td>0.015282</td>\n",
       "      <td>3</td>\n",
       "      <td>0</td>\n",
       "      <td>0.428248</td>\n",
       "      <td>0.000</td>\n",
       "      <td>0.000000</td>\n",
       "    </tr>\n",
       "    <tr>\n",
       "      <th>1</th>\n",
       "      <td>0.013663</td>\n",
       "      <td>3</td>\n",
       "      <td>1</td>\n",
       "      <td>0.585323</td>\n",
       "      <td>0.125</td>\n",
       "      <td>0.000000</td>\n",
       "    </tr>\n",
       "    <tr>\n",
       "      <th>2</th>\n",
       "      <td>0.018909</td>\n",
       "      <td>2</td>\n",
       "      <td>0</td>\n",
       "      <td>0.773813</td>\n",
       "      <td>0.000</td>\n",
       "      <td>0.000000</td>\n",
       "    </tr>\n",
       "    <tr>\n",
       "      <th>3</th>\n",
       "      <td>0.016908</td>\n",
       "      <td>3</td>\n",
       "      <td>0</td>\n",
       "      <td>0.334004</td>\n",
       "      <td>0.000</td>\n",
       "      <td>0.000000</td>\n",
       "    </tr>\n",
       "    <tr>\n",
       "      <th>4</th>\n",
       "      <td>0.023984</td>\n",
       "      <td>3</td>\n",
       "      <td>1</td>\n",
       "      <td>0.271174</td>\n",
       "      <td>0.125</td>\n",
       "      <td>0.166667</td>\n",
       "    </tr>\n",
       "    <tr>\n",
       "      <th>...</th>\n",
       "      <td>...</td>\n",
       "      <td>...</td>\n",
       "      <td>...</td>\n",
       "      <td>...</td>\n",
       "      <td>...</td>\n",
       "      <td>...</td>\n",
       "    </tr>\n",
       "    <tr>\n",
       "      <th>413</th>\n",
       "      <td>0.015713</td>\n",
       "      <td>3</td>\n",
       "      <td>0</td>\n",
       "      <td>0.375127</td>\n",
       "      <td>0.000</td>\n",
       "      <td>0.000000</td>\n",
       "    </tr>\n",
       "    <tr>\n",
       "      <th>414</th>\n",
       "      <td>0.212559</td>\n",
       "      <td>1</td>\n",
       "      <td>1</td>\n",
       "      <td>0.484795</td>\n",
       "      <td>0.000</td>\n",
       "      <td>0.000000</td>\n",
       "    </tr>\n",
       "    <tr>\n",
       "      <th>415</th>\n",
       "      <td>0.014151</td>\n",
       "      <td>3</td>\n",
       "      <td>0</td>\n",
       "      <td>0.478512</td>\n",
       "      <td>0.000</td>\n",
       "      <td>0.000000</td>\n",
       "    </tr>\n",
       "    <tr>\n",
       "      <th>416</th>\n",
       "      <td>0.015713</td>\n",
       "      <td>3</td>\n",
       "      <td>0</td>\n",
       "      <td>0.375127</td>\n",
       "      <td>0.000</td>\n",
       "      <td>0.000000</td>\n",
       "    </tr>\n",
       "    <tr>\n",
       "      <th>417</th>\n",
       "      <td>0.043640</td>\n",
       "      <td>3</td>\n",
       "      <td>0</td>\n",
       "      <td>0.375127</td>\n",
       "      <td>0.125</td>\n",
       "      <td>0.166667</td>\n",
       "    </tr>\n",
       "  </tbody>\n",
       "</table>\n",
       "<p>418 rows × 6 columns</p>\n",
       "</div>"
      ],
      "text/plain": [
       "         Fare  Pclass  Sex       Age  SibSp     Parch\n",
       "0    0.015282       3    0  0.428248  0.000  0.000000\n",
       "1    0.013663       3    1  0.585323  0.125  0.000000\n",
       "2    0.018909       2    0  0.773813  0.000  0.000000\n",
       "3    0.016908       3    0  0.334004  0.000  0.000000\n",
       "4    0.023984       3    1  0.271174  0.125  0.166667\n",
       "..        ...     ...  ...       ...    ...       ...\n",
       "413  0.015713       3    0  0.375127  0.000  0.000000\n",
       "414  0.212559       1    1  0.484795  0.000  0.000000\n",
       "415  0.014151       3    0  0.478512  0.000  0.000000\n",
       "416  0.015713       3    0  0.375127  0.000  0.000000\n",
       "417  0.043640       3    0  0.375127  0.125  0.166667\n",
       "\n",
       "[418 rows x 6 columns]"
      ]
     },
     "execution_count": 74,
     "metadata": {},
     "output_type": "execute_result"
    }
   ],
   "source": [
    "p = Pipeline([\n",
    "    (\"column_extractor\", ColumnExtractor(features)),\n",
    "    (\"fill_na\", FillNa(\"mean\")),\n",
    "    (\"sex_binarizer\", SexBinarizer()),\n",
    "    (\"feature_normalizer\", FeatureNormalizer(normalize_features))\n",
    "])\n",
    "p.fit(x_train, y_train)\n",
    "p.transform(x_test)"
   ]
  },
  {
   "cell_type": "markdown",
   "metadata": {},
   "source": [
    "## RandomForest"
   ]
  },
  {
   "cell_type": "code",
   "execution_count": 52,
   "metadata": {},
   "outputs": [
    {
     "name": "stdout",
     "output_type": "stream",
     "text": [
      "Fitting 5 folds for each of 100 candidates, totalling 500 fits\n"
     ]
    },
    {
     "name": "stderr",
     "output_type": "stream",
     "text": [
      "[Parallel(n_jobs=-1)]: Using backend LokyBackend with 8 concurrent workers.\n",
      "[Parallel(n_jobs=-1)]: Done  34 tasks      | elapsed:    6.1s\n",
      "[Parallel(n_jobs=-1)]: Done 184 tasks      | elapsed:   25.9s\n",
      "[Parallel(n_jobs=-1)]: Done 434 tasks      | elapsed:  1.1min\n",
      "[Parallel(n_jobs=-1)]: Done 500 out of 500 | elapsed:  1.2min finished\n"
     ]
    }
   ],
   "source": [
    "rf_params = {\n",
    "    \"clf__n_estimators\": randint(100, 500),\n",
    "    \"clf__criterion\": [\"gini\", \"entropy\"],\n",
    "    \"clf__max_depth\": randint(3, 10),\n",
    "    \"clf__max_features\": [\"auto\", \"sqrt\", \"log2\", None],\n",
    "    \"clf__bootstrap\": [True],\n",
    "    \"clf__random_state\": [30],\n",
    "    \"clf__warm_start\": [True]\n",
    "}\n",
    "\n",
    "best_rf = RandomizedSearchCV(\n",
    "    pipeline_factory(RandomForestClassifier()), rf_params,\n",
    "    random_state=30, n_iter=100, cv=5, verbose=1, n_jobs=-1).fit(x_train, y_train)"
   ]
  },
  {
   "cell_type": "code",
   "execution_count": 53,
   "metadata": {},
   "outputs": [
    {
     "data": {
      "text/plain": [
       "0.8335555132355742"
      ]
     },
     "execution_count": 53,
     "metadata": {},
     "output_type": "execute_result"
    }
   ],
   "source": [
    "best_rf.best_score_"
   ]
  },
  {
   "cell_type": "code",
   "execution_count": 63,
   "metadata": {
    "scrolled": true
   },
   "outputs": [
    {
     "data": {
      "text/plain": [
       "RandomForestClassifier(bootstrap=True, ccp_alpha=0.0, class_weight=None,\n",
       "                       criterion='gini', max_depth=8, max_features=None,\n",
       "                       max_leaf_nodes=None, max_samples=None,\n",
       "                       min_impurity_decrease=0.0, min_impurity_split=None,\n",
       "                       min_samples_leaf=1, min_samples_split=2,\n",
       "                       min_weight_fraction_leaf=0.0, n_estimators=272,\n",
       "                       n_jobs=None, oob_score=False, random_state=30, verbose=0,\n",
       "                       warm_start=True)"
      ]
     },
     "execution_count": 63,
     "metadata": {},
     "output_type": "execute_result"
    }
   ],
   "source": [
    "get_clf(best_rf)"
   ]
  },
  {
   "cell_type": "code",
   "execution_count": 67,
   "metadata": {},
   "outputs": [],
   "source": [
    "with open(path_to_models / \"RandomForestClassifier.java\", \"w\") as f:\n",
    "    porter = Porter(get_clf(best_rf), language='java')\n",
    "    f.write(porter.export(embed_data=True))"
   ]
  },
  {
   "cell_type": "markdown",
   "metadata": {},
   "source": [
    "## SVC"
   ]
  },
  {
   "cell_type": "code",
   "execution_count": 69,
   "metadata": {},
   "outputs": [
    {
     "name": "stdout",
     "output_type": "stream",
     "text": [
      "Fitting 5 folds for each of 1000 candidates, totalling 5000 fits\n"
     ]
    },
    {
     "name": "stderr",
     "output_type": "stream",
     "text": [
      "[Parallel(n_jobs=-1)]: Using backend LokyBackend with 8 concurrent workers.\n",
      "[Parallel(n_jobs=-1)]: Done  52 tasks      | elapsed:    0.5s\n",
      "[Parallel(n_jobs=-1)]: Done 352 tasks      | elapsed:    2.7s\n",
      "[Parallel(n_jobs=-1)]: Done 852 tasks      | elapsed:    7.3s\n",
      "[Parallel(n_jobs=-1)]: Done 1552 tasks      | elapsed:   15.4s\n",
      "[Parallel(n_jobs=-1)]: Done 2452 tasks      | elapsed:   27.2s\n",
      "[Parallel(n_jobs=-1)]: Done 4440 tasks      | elapsed:  1.0min\n",
      "[Parallel(n_jobs=-1)]: Done 5000 out of 5000 | elapsed:  1.6min finished\n"
     ]
    }
   ],
   "source": [
    "svc_params = {\n",
    "    \"clf__C\": uniform(0.5, 1.5),\n",
    "    \"clf__degree\": randint(3, 7),\n",
    "    \"clf__kernel\": [\"rbf\", \"linear\", \"poly\", \"sigmoid\"],\n",
    "    \"clf__random_state\": [30]\n",
    "}\n",
    "\n",
    "best_svc = RandomizedSearchCV(\n",
    "    pipeline_factory(SVC()), svc_params,\n",
    "    random_state=30, n_iter=1000, cv=5, verbose=1, n_jobs=-1).fit(x_train, y_train)"
   ]
  },
  {
   "cell_type": "code",
   "execution_count": 61,
   "metadata": {
    "scrolled": true
   },
   "outputs": [
    {
     "data": {
      "text/plain": [
       "0.8087856281343235"
      ]
     },
     "execution_count": 61,
     "metadata": {},
     "output_type": "execute_result"
    }
   ],
   "source": [
    "best_svc.best_score_"
   ]
  },
  {
   "cell_type": "code",
   "execution_count": 65,
   "metadata": {
    "scrolled": true
   },
   "outputs": [
    {
     "data": {
      "text/plain": [
       "SVC(C=4.109723262582725, break_ties=False, cache_size=200, class_weight=None,\n",
       "    coef0=0.0, decision_function_shape='ovr', degree=4, gamma='scale',\n",
       "    kernel='poly', max_iter=-1, probability=False, random_state=30,\n",
       "    shrinking=True, tol=0.001, verbose=False)"
      ]
     },
     "execution_count": 65,
     "metadata": {},
     "output_type": "execute_result"
    }
   ],
   "source": [
    "get_clf(best_svc)"
   ]
  },
  {
   "cell_type": "code",
   "execution_count": 68,
   "metadata": {},
   "outputs": [],
   "source": [
    "with open(path_to_models / \"SupportBectorMachineClassifier.java\", \"w\") as f:\n",
    "    porter = Porter(get_clf(best_svc), language='java')\n",
    "    f.write(porter.export(embed_data=True))"
   ]
  }
 ],
 "metadata": {
  "kernelspec": {
   "display_name": "Python 3",
   "language": "python",
   "name": "python3"
  },
  "language_info": {
   "codemirror_mode": {
    "name": "ipython",
    "version": 3
   },
   "file_extension": ".py",
   "mimetype": "text/x-python",
   "name": "python",
   "nbconvert_exporter": "python",
   "pygments_lexer": "ipython3",
   "version": "3.7.6"
  }
 },
 "nbformat": 4,
 "nbformat_minor": 2
}
