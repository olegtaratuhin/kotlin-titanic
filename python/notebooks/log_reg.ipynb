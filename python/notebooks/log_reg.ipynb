{
 "cells": [
  {
   "cell_type": "markdown",
   "metadata": {},
   "source": [
    "## Feature engineering"
   ]
  },
  {
   "cell_type": "code",
   "execution_count": 1,
   "metadata": {},
   "outputs": [],
   "source": [
    "import pandas as pd\n",
    "import numpy as np\n",
    "from pathlib import Path"
   ]
  },
  {
   "cell_type": "code",
   "execution_count": 119,
   "metadata": {},
   "outputs": [],
   "source": [
    "path_to_data = Path(\"../data\")\n",
    "path_to_models = Path(\"../models\")\n",
    "df_train = pd.read_csv(path_to_data / \"train.csv\")\n",
    "df_test = pd.read_csv(path_to_data / \"test.csv\")"
   ]
  },
  {
   "cell_type": "code",
   "execution_count": 17,
   "metadata": {},
   "outputs": [
    {
     "data": {
      "text/html": [
       "<div>\n",
       "<style scoped>\n",
       "    .dataframe tbody tr th:only-of-type {\n",
       "        vertical-align: middle;\n",
       "    }\n",
       "\n",
       "    .dataframe tbody tr th {\n",
       "        vertical-align: top;\n",
       "    }\n",
       "\n",
       "    .dataframe thead th {\n",
       "        text-align: right;\n",
       "    }\n",
       "</style>\n",
       "<table border=\"1\" class=\"dataframe\">\n",
       "  <thead>\n",
       "    <tr style=\"text-align: right;\">\n",
       "      <th></th>\n",
       "      <th>PassengerId</th>\n",
       "      <th>Survived</th>\n",
       "      <th>Pclass</th>\n",
       "      <th>Name</th>\n",
       "      <th>Sex</th>\n",
       "      <th>Age</th>\n",
       "      <th>SibSp</th>\n",
       "      <th>Parch</th>\n",
       "      <th>Ticket</th>\n",
       "      <th>Fare</th>\n",
       "      <th>Cabin</th>\n",
       "      <th>Embarked</th>\n",
       "    </tr>\n",
       "  </thead>\n",
       "  <tbody>\n",
       "    <tr>\n",
       "      <th>0</th>\n",
       "      <td>1</td>\n",
       "      <td>0</td>\n",
       "      <td>3</td>\n",
       "      <td>Braund, Mr. Owen Harris</td>\n",
       "      <td>male</td>\n",
       "      <td>22.0</td>\n",
       "      <td>1</td>\n",
       "      <td>0</td>\n",
       "      <td>A/5 21171</td>\n",
       "      <td>7.2500</td>\n",
       "      <td>NaN</td>\n",
       "      <td>S</td>\n",
       "    </tr>\n",
       "    <tr>\n",
       "      <th>1</th>\n",
       "      <td>2</td>\n",
       "      <td>1</td>\n",
       "      <td>1</td>\n",
       "      <td>Cumings, Mrs. John Bradley (Florence Briggs Th...</td>\n",
       "      <td>female</td>\n",
       "      <td>38.0</td>\n",
       "      <td>1</td>\n",
       "      <td>0</td>\n",
       "      <td>PC 17599</td>\n",
       "      <td>71.2833</td>\n",
       "      <td>C85</td>\n",
       "      <td>C</td>\n",
       "    </tr>\n",
       "    <tr>\n",
       "      <th>2</th>\n",
       "      <td>3</td>\n",
       "      <td>1</td>\n",
       "      <td>3</td>\n",
       "      <td>Heikkinen, Miss. Laina</td>\n",
       "      <td>female</td>\n",
       "      <td>26.0</td>\n",
       "      <td>0</td>\n",
       "      <td>0</td>\n",
       "      <td>STON/O2. 3101282</td>\n",
       "      <td>7.9250</td>\n",
       "      <td>NaN</td>\n",
       "      <td>S</td>\n",
       "    </tr>\n",
       "    <tr>\n",
       "      <th>3</th>\n",
       "      <td>4</td>\n",
       "      <td>1</td>\n",
       "      <td>1</td>\n",
       "      <td>Futrelle, Mrs. Jacques Heath (Lily May Peel)</td>\n",
       "      <td>female</td>\n",
       "      <td>35.0</td>\n",
       "      <td>1</td>\n",
       "      <td>0</td>\n",
       "      <td>113803</td>\n",
       "      <td>53.1000</td>\n",
       "      <td>C123</td>\n",
       "      <td>S</td>\n",
       "    </tr>\n",
       "    <tr>\n",
       "      <th>4</th>\n",
       "      <td>5</td>\n",
       "      <td>0</td>\n",
       "      <td>3</td>\n",
       "      <td>Allen, Mr. William Henry</td>\n",
       "      <td>male</td>\n",
       "      <td>35.0</td>\n",
       "      <td>0</td>\n",
       "      <td>0</td>\n",
       "      <td>373450</td>\n",
       "      <td>8.0500</td>\n",
       "      <td>NaN</td>\n",
       "      <td>S</td>\n",
       "    </tr>\n",
       "  </tbody>\n",
       "</table>\n",
       "</div>"
      ],
      "text/plain": [
       "   PassengerId  Survived  Pclass  \\\n",
       "0            1         0       3   \n",
       "1            2         1       1   \n",
       "2            3         1       3   \n",
       "3            4         1       1   \n",
       "4            5         0       3   \n",
       "\n",
       "                                                Name     Sex   Age  SibSp  \\\n",
       "0                            Braund, Mr. Owen Harris    male  22.0      1   \n",
       "1  Cumings, Mrs. John Bradley (Florence Briggs Th...  female  38.0      1   \n",
       "2                             Heikkinen, Miss. Laina  female  26.0      0   \n",
       "3       Futrelle, Mrs. Jacques Heath (Lily May Peel)  female  35.0      1   \n",
       "4                           Allen, Mr. William Henry    male  35.0      0   \n",
       "\n",
       "   Parch            Ticket     Fare Cabin Embarked  \n",
       "0      0         A/5 21171   7.2500   NaN        S  \n",
       "1      0          PC 17599  71.2833   C85        C  \n",
       "2      0  STON/O2. 3101282   7.9250   NaN        S  \n",
       "3      0            113803  53.1000  C123        S  \n",
       "4      0            373450   8.0500   NaN        S  "
      ]
     },
     "execution_count": 17,
     "metadata": {},
     "output_type": "execute_result"
    }
   ],
   "source": [
    "df_train.head()"
   ]
  },
  {
   "cell_type": "code",
   "execution_count": 18,
   "metadata": {
    "scrolled": true
   },
   "outputs": [
    {
     "data": {
      "text/html": [
       "<div>\n",
       "<style scoped>\n",
       "    .dataframe tbody tr th:only-of-type {\n",
       "        vertical-align: middle;\n",
       "    }\n",
       "\n",
       "    .dataframe tbody tr th {\n",
       "        vertical-align: top;\n",
       "    }\n",
       "\n",
       "    .dataframe thead th {\n",
       "        text-align: right;\n",
       "    }\n",
       "</style>\n",
       "<table border=\"1\" class=\"dataframe\">\n",
       "  <thead>\n",
       "    <tr style=\"text-align: right;\">\n",
       "      <th></th>\n",
       "      <th>PassengerId</th>\n",
       "      <th>Pclass</th>\n",
       "      <th>Name</th>\n",
       "      <th>Sex</th>\n",
       "      <th>Age</th>\n",
       "      <th>SibSp</th>\n",
       "      <th>Parch</th>\n",
       "      <th>Ticket</th>\n",
       "      <th>Fare</th>\n",
       "      <th>Cabin</th>\n",
       "      <th>Embarked</th>\n",
       "    </tr>\n",
       "  </thead>\n",
       "  <tbody>\n",
       "    <tr>\n",
       "      <th>0</th>\n",
       "      <td>892</td>\n",
       "      <td>3</td>\n",
       "      <td>Kelly, Mr. James</td>\n",
       "      <td>male</td>\n",
       "      <td>34.5</td>\n",
       "      <td>0</td>\n",
       "      <td>0</td>\n",
       "      <td>330911</td>\n",
       "      <td>7.8292</td>\n",
       "      <td>NaN</td>\n",
       "      <td>Q</td>\n",
       "    </tr>\n",
       "    <tr>\n",
       "      <th>1</th>\n",
       "      <td>893</td>\n",
       "      <td>3</td>\n",
       "      <td>Wilkes, Mrs. James (Ellen Needs)</td>\n",
       "      <td>female</td>\n",
       "      <td>47.0</td>\n",
       "      <td>1</td>\n",
       "      <td>0</td>\n",
       "      <td>363272</td>\n",
       "      <td>7.0000</td>\n",
       "      <td>NaN</td>\n",
       "      <td>S</td>\n",
       "    </tr>\n",
       "    <tr>\n",
       "      <th>2</th>\n",
       "      <td>894</td>\n",
       "      <td>2</td>\n",
       "      <td>Myles, Mr. Thomas Francis</td>\n",
       "      <td>male</td>\n",
       "      <td>62.0</td>\n",
       "      <td>0</td>\n",
       "      <td>0</td>\n",
       "      <td>240276</td>\n",
       "      <td>9.6875</td>\n",
       "      <td>NaN</td>\n",
       "      <td>Q</td>\n",
       "    </tr>\n",
       "    <tr>\n",
       "      <th>3</th>\n",
       "      <td>895</td>\n",
       "      <td>3</td>\n",
       "      <td>Wirz, Mr. Albert</td>\n",
       "      <td>male</td>\n",
       "      <td>27.0</td>\n",
       "      <td>0</td>\n",
       "      <td>0</td>\n",
       "      <td>315154</td>\n",
       "      <td>8.6625</td>\n",
       "      <td>NaN</td>\n",
       "      <td>S</td>\n",
       "    </tr>\n",
       "    <tr>\n",
       "      <th>4</th>\n",
       "      <td>896</td>\n",
       "      <td>3</td>\n",
       "      <td>Hirvonen, Mrs. Alexander (Helga E Lindqvist)</td>\n",
       "      <td>female</td>\n",
       "      <td>22.0</td>\n",
       "      <td>1</td>\n",
       "      <td>1</td>\n",
       "      <td>3101298</td>\n",
       "      <td>12.2875</td>\n",
       "      <td>NaN</td>\n",
       "      <td>S</td>\n",
       "    </tr>\n",
       "  </tbody>\n",
       "</table>\n",
       "</div>"
      ],
      "text/plain": [
       "   PassengerId  Pclass                                          Name     Sex  \\\n",
       "0          892       3                              Kelly, Mr. James    male   \n",
       "1          893       3              Wilkes, Mrs. James (Ellen Needs)  female   \n",
       "2          894       2                     Myles, Mr. Thomas Francis    male   \n",
       "3          895       3                              Wirz, Mr. Albert    male   \n",
       "4          896       3  Hirvonen, Mrs. Alexander (Helga E Lindqvist)  female   \n",
       "\n",
       "    Age  SibSp  Parch   Ticket     Fare Cabin Embarked  \n",
       "0  34.5      0      0   330911   7.8292   NaN        Q  \n",
       "1  47.0      1      0   363272   7.0000   NaN        S  \n",
       "2  62.0      0      0   240276   9.6875   NaN        Q  \n",
       "3  27.0      0      0   315154   8.6625   NaN        S  \n",
       "4  22.0      1      1  3101298  12.2875   NaN        S  "
      ]
     },
     "execution_count": 18,
     "metadata": {},
     "output_type": "execute_result"
    }
   ],
   "source": [
    "df_test.head()"
   ]
  },
  {
   "cell_type": "code",
   "execution_count": 128,
   "metadata": {},
   "outputs": [],
   "source": [
    "from sklearn.linear_model import LogisticRegression\n",
    "from sklearn.pipeline import Pipeline\n",
    "from sklearn.base import BaseEstimator, TransformerMixin\n",
    "from sklearn.preprocessing import MinMaxScaler\n",
    "from sklearn.preprocessing import KBinsDiscretizer\n",
    "from sklearn.model_selection import cross_val_score\n",
    "from sklearn.model_selection import RandomizedSearchCV\n",
    "from sklearn import metrics\n",
    "from scipy.stats import uniform\n",
    "import warnings\n",
    "warnings.filterwarnings('ignore')"
   ]
  },
  {
   "cell_type": "code",
   "execution_count": 44,
   "metadata": {},
   "outputs": [],
   "source": [
    "dropped_row_subset = [\"Embarked\"]\n",
    "train = df_train.dropna(subset=dropped_row_subset)\n",
    "x_train = train.drop(columns=[\"Survived\"])\n",
    "y_train = train[\"Survived\"]\n",
    "\n",
    "x_test = df_test"
   ]
  },
  {
   "cell_type": "code",
   "execution_count": 23,
   "metadata": {},
   "outputs": [],
   "source": [
    "class OneHotEncoding(BaseEstimator, TransformerMixin):\n",
    "    \n",
    "    def __init__(self, column_names=[]):\n",
    "        self.column_names = column_names\n",
    "\n",
    "    def transform(self, df, y=None):\n",
    "        return pd.get_dummies(df, columns=self.column_names)\n",
    "\n",
    "    def fit(self, df, y=None):\n",
    "        return self\n",
    "    \n",
    "class DropColumns(BaseEstimator, TransformerMixin):\n",
    "    \n",
    "    def __init__(self, column_names=[]):\n",
    "        self.column_names = column_names\n",
    "\n",
    "    def transform(self, df, y=None):\n",
    "        return df.drop(self.column_names, axis=1)\n",
    "\n",
    "    def fit(self, df, y=None):\n",
    "        return self\n",
    "    \n",
    "class ColumnExtractor(BaseEstimator, TransformerMixin):\n",
    "    \n",
    "    def __init__(self, column_names=[]):\n",
    "        self.column_names = column_names\n",
    "\n",
    "    def transform(self, df, y=None):\n",
    "        return df.loc[:, self.column_names]\n",
    "\n",
    "    def fit(self, df, y=None):\n",
    "        return self\n",
    "    \n",
    "class SexBinarizer(BaseEstimator, TransformerMixin):\n",
    "    \n",
    "    def __init__(self, column_names=[]):\n",
    "        pass\n",
    "\n",
    "    def transform(self, df, y=None):\n",
    "        df.loc[:, \"Sex\"] = df.loc[:, \"Sex\"].map({\"male\": 0, \"female\": 1})\n",
    "        return df\n",
    "\n",
    "    def fit(self, df, y=None):\n",
    "        return self\n",
    "    \n",
    "class FeatureNormalizer(BaseEstimator, TransformerMixin):\n",
    "    \n",
    "    def __init__(self, column_names=[]):\n",
    "        self.column_names = column_names\n",
    "        self.min_max_scalar = MinMaxScaler()\n",
    "\n",
    "    def transform(self, df, y=None):\n",
    "        df.loc[:, self.column_names] = self.min_max_scalar.transform(df[self.column_names].as_matrix())\n",
    "        return df\n",
    "\n",
    "    def fit(self, df, y=None):\n",
    "        self.min_max_scalar.fit(df[self.column_names].as_matrix())\n",
    "        return self\n",
    "    \n",
    "class FillNa(BaseEstimator, TransformerMixin):\n",
    "    \n",
    "    def __init__(self, method=\"mean\", d=None):\n",
    "        if d is not None:\n",
    "            method = \"dict\"\n",
    "        self.d = None\n",
    "        self.method = method\n",
    "\n",
    "    def transform(self, df, y=None):\n",
    "        if self.method == \"zeros\":\n",
    "            df.fillna(0)\n",
    "        elif self.method == \"mean\":\n",
    "            df.fillna(df.mean(), inplace=True)\n",
    "        elif self.method == \"dict\":\n",
    "            df.fillna(df.map(self.d))\n",
    "        else:\n",
    "            raise ValueError(\"Method should be 'mean' or 'zeros'\")\n",
    "        return df\n",
    "\n",
    "    def fit(self, df, y=None):\n",
    "        return self\n",
    "    \n",
    "class AddTwoCategoricalVariables(BaseEstimator, TransformerMixin):\n",
    "    def __init__(self, column_1, column_2):\n",
    "        self.column_1 = column_1\n",
    "        self.column_2 = column_2\n",
    "    \n",
    "    def transform(self, df):\n",
    "        df[self.column_1 + \"_\" + self.column_2] = (df[self.column_1].astype(float) +\n",
    "                    (len(df[self.column_1].unique()) * (df[self.column_2].astype(float)))).astype(\"category\")\n",
    "        return df\n",
    "    \n",
    "    def fit(self, df, y=None):\n",
    "        return self\n",
    "    \n",
    "class Numerical2Categorical(BaseEstimator, TransformerMixin):\n",
    "    def __init__(self, column, ranges, labels):\n",
    "        self.column = column\n",
    "        self.ranges = ranges\n",
    "        self.labels = labels\n",
    "        \n",
    "    def transform(self, df):\n",
    "        df.loc[:, self.column + \"_\" + \"cat\"] = (pd.cut(df.loc[:, self.column], self.ranges, labels=self.labels))\n",
    "        return df\n",
    "    \n",
    "    def fit(self, df, y=None):\n",
    "        return self"
   ]
  },
  {
   "cell_type": "markdown",
   "metadata": {},
   "source": [
    "### Create simple pipeline"
   ]
  },
  {
   "cell_type": "code",
   "execution_count": 126,
   "metadata": {},
   "outputs": [],
   "source": [
    "features = [\"Fare\", \"Pclass\", \"Sex\", \"Age\", \"SibSp\", \"Parch\"]\n",
    "normalize_features = [\"Fare\", \"SibSp\", \"Parch\", \"Age\"]\n",
    "age_range = [0, 15, 35, 50, 80]\n",
    "age_label = [0, 1, 2, 3]"
   ]
  },
  {
   "cell_type": "code",
   "execution_count": 35,
   "metadata": {
    "pycharm": {
     "is_executing": false
    }
   },
   "outputs": [
    {
     "name": "stdout",
     "text": [
      "score = 0.78 ± 0.02\n"
     ],
     "output_type": "stream"
    }
   ],
   "source": [
    "pipeline = Pipeline([\n",
    "    (\"column_extractor\", ColumnExtractor(features)),\n",
    "    (\"fill_na\", FillNa(\"mean\")),\n",
    "    (\"sex_binarizer\", SexBinarizer()),\n",
    "    (\"feature_normalizer\", FeatureNormalizer(normalize_features)),\n",
    "    (\"clf\", LogisticRegression())\n",
    "])\n",
    "\n",
    "score = cross_val_score(pipeline, x_train, y_train, cv=5, scoring=\"accuracy\")\n",
    "print(f\"score = {round(np.mean(score), 2)} ± {round(np.std(score), 2)}\")\n",
    "np.savetxt(path_to_models / 'log_reg_1.txt', pipeline.fit(x_train, y_train)[\"clf\"].coef_[0])\n",
    "np.savetxt(path_to_models / 'log_reg_1_intercept.txt', pipeline.fit(x_train, y_train)[\"clf\"].intercept_)"
   ]
  },
  {
   "cell_type": "markdown",
   "metadata": {},
   "source": [
    "### Create more complex pipeline"
   ]
  },
  {
   "cell_type": "code",
   "execution_count": 131,
   "metadata": {},
   "outputs": [
    {
     "name": "stdout",
     "output_type": "stream",
     "text": [
      "score = 0.82 ± 0.02\n"
     ]
    }
   ],
   "source": [
    "pipeline = Pipeline([\n",
    "    (\"column_extractor\", ColumnExtractor(features)),\n",
    "    (\"fill_na\", FillNa(\"mean\")),\n",
    "    (\"sex_binarizer\", SexBinarizer()),\n",
    "    (\"num2cat\", Numerical2Categorical(\"Age\", age_range, age_label)),\n",
    "    (\"add_age_sex\", AddTwoCategoricalVariables(\"Age_cat\", \"Sex\")),\n",
    "    (\"add_sex_class\", AddTwoCategoricalVariables(\"Sex\", \"Pclass\")),\n",
    "    (\"add_age_sex_class\", AddTwoCategoricalVariables(\"Age_cat_Sex\", \"Pclass\")),\n",
    "    (\"one_hot_encoding\", OneHotEncoding([\"Age_cat_Sex\", \"Sex_Pclass\"])),\n",
    "    (\"drop_columns\", DropColumns([\"Age_cat\"])),\n",
    "    (\"feature_normalizer\", FeatureNormalizer(normalize_features)),\n",
    "    (\"clf\", LogisticRegression())\n",
    "])\n",
    "\n",
    "score = cross_val_score(pipeline, x_train, y_train, cv=5, scoring=\"accuracy\")\n",
    "print(f\"score = {round(np.mean(score), 2)} ± {round(np.std(score), 2)}\")"
   ]
  },
  {
   "cell_type": "code",
   "execution_count": 106,
   "metadata": {
    "scrolled": true
   },
   "outputs": [
    {
     "data": {
      "text/plain": [
       "array([[ 0.31696511, -0.52710365,  1.61328966, -0.01713247, -2.15033703,\n",
       "        -0.82052986, -0.01839819,  1.40919714, -0.68651677, -0.55501586,\n",
       "        -0.9245783 ,  0.47890263,  0.57717783, -0.06675035,  0.62395954,\n",
       "         0.11580678,  1.25349155, -0.65823028,  1.01586486, -0.21449029,\n",
       "        -0.65606675]])"
      ]
     },
     "execution_count": 106,
     "metadata": {},
     "output_type": "execute_result"
    }
   ],
   "source": [
    "pipeline.fit(x_train, y_train)[\"clf\"].coef_"
   ]
  },
  {
   "cell_type": "markdown",
   "metadata": {},
   "source": [
    "### With hyperparameter tuning"
   ]
  },
  {
   "cell_type": "code",
   "execution_count": 133,
   "metadata": {},
   "outputs": [
    {
     "name": "stdout",
     "output_type": "stream",
     "text": [
      "Fitting 5 folds for each of 1000 candidates, totalling 5000 fits\n"
     ]
    },
    {
     "name": "stderr",
     "output_type": "stream",
     "text": [
      "[Parallel(n_jobs=-1)]: Using backend LokyBackend with 8 concurrent workers.\n",
      "[Parallel(n_jobs=-1)]: Done  34 tasks      | elapsed:    2.5s\n",
      "[Parallel(n_jobs=-1)]: Done 504 tasks      | elapsed:    7.2s\n",
      "[Parallel(n_jobs=-1)]: Done 1504 tasks      | elapsed:   18.2s\n",
      "[Parallel(n_jobs=-1)]: Done 2904 tasks      | elapsed:   33.8s\n",
      "[Parallel(n_jobs=-1)]: Done 4704 tasks      | elapsed:   53.8s\n",
      "[Parallel(n_jobs=-1)]: Done 4985 out of 5000 | elapsed:   56.9s remaining:    0.2s\n",
      "[Parallel(n_jobs=-1)]: Done 5000 out of 5000 | elapsed:   57.0s finished\n"
     ]
    }
   ],
   "source": [
    "params_clf = {\n",
    "    'clf__class_weight': ['balanced', None],\n",
    "    'clf__penalty': [None, 'l1', 'l2', 'elasticnet'],\n",
    "    'clf__C': uniform(loc=0, scale=4)\n",
    "}\n",
    "\n",
    "model_space = RandomizedSearchCV(pipeline, params_clf, random_state=1, n_iter=1000, cv=5, verbose=1, n_jobs=-1)\n",
    "best_model = model_space.fit(x_train, y_train)"
   ]
  },
  {
   "cell_type": "code",
   "execution_count": 134,
   "metadata": {},
   "outputs": [
    {
     "data": {
      "text/plain": [
       "0.8267948962102455"
      ]
     },
     "execution_count": 134,
     "metadata": {},
     "output_type": "execute_result"
    }
   ],
   "source": [
    "best_model.best_score_"
   ]
  },
  {
   "cell_type": "code",
   "execution_count": 135,
   "metadata": {
    "scrolled": true
   },
   "outputs": [
    {
     "data": {
      "text/plain": [
       "array([ 0.36772234, -0.49364316,  1.59740106, -0.01799704, -2.17914808,\n",
       "       -0.75865159, -0.02730816,  1.44945167, -0.69666582, -0.5565676 ,\n",
       "       -0.98665036,  0.46047189,  0.57770656, -0.04661061,  0.60583322,\n",
       "        0.13012027,  1.16703162, -0.71158271,  1.03182892, -0.20896967,\n",
       "       -0.60145948])"
      ]
     },
     "execution_count": 135,
     "metadata": {},
     "output_type": "execute_result"
    }
   ],
   "source": [
    "best_model.best_estimator_[\"clf\"].coef_[0]"
   ]
  },
  {
   "cell_type": "code",
   "execution_count": 136,
   "metadata": {},
   "outputs": [],
   "source": [
    "np.savetxt(path_to_models / 'log_reg_2.txt', best_model.best_estimator_[\"clf\"].coef_[0])"
   ]
  }
 ],
 "metadata": {
  "kernelspec": {
   "display_name": "Python 3",
   "language": "python",
   "name": "python3"
  },
  "language_info": {
   "codemirror_mode": {
    "name": "ipython",
    "version": 3
   },
   "file_extension": ".py",
   "mimetype": "text/x-python",
   "name": "python",
   "nbconvert_exporter": "python",
   "pygments_lexer": "ipython3",
   "version": "3.7.6"
  },
  "pycharm": {
   "stem_cell": {
    "cell_type": "raw",
    "source": [],
    "metadata": {
     "collapsed": false
    }
   }
  }
 },
 "nbformat": 4,
 "nbformat_minor": 2
}